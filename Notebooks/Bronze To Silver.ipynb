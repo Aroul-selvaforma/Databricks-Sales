{
 "cells": [
  {
   "cell_type": "code",
   "execution_count": 0,
   "metadata": {
    "application/vnd.databricks.v1+cell": {
     "cellMetadata": {
      "byteLimit": 2048000,
      "rowLimit": 10000
     },
     "inputWidgets": {},
     "nuid": "b5989b62-c86b-4cb5-b69f-2b7a04f3d4b2",
     "showTitle": false,
     "tableResultSettingsMap": {},
     "title": ""
    }
   },
   "outputs": [],
   "source": [
    "\n",
    "orders = spark.read.table(\"sales.bronze.sales_bronze\")\n",
    "display(orders.limit(10))\n",
    "\"\"\"\n",
    "Code in scala:\n",
    "import org.apache.spark.sql.types._\n",
    "\n",
    "val orders = spark.read.table(\"Sales.sales_bronze\")\n",
    "\n",
    "display(orders.head(10))\n",
    "\n",
    "\n",
    "\"\"\""
   ]
  }
 ],
 "metadata": {
  "application/vnd.databricks.v1+notebook": {
   "computePreferences": null,
   "dashboards": [],
   "environmentMetadata": {
    "base_environment": "",
    "environment_version": "3"
   },
   "inputWidgetPreferences": null,
   "language": "python",
   "notebookMetadata": {
    "pythonIndentUnit": 4
   },
   "notebookName": "Bronze To Silver",
   "widgets": {}
  },
  "language_info": {
   "name": "python"
  }
 },
 "nbformat": 4,
 "nbformat_minor": 0
}
